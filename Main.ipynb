{
 "cells": [
  {
   "cell_type": "code",
   "execution_count": 1,
   "metadata": {},
   "outputs": [],
   "source": [
    "import os"
   ]
  },
  {
   "cell_type": "code",
   "execution_count": 2,
   "metadata": {},
   "outputs": [],
   "source": [
    "os.environ[\"CUDA_VISIBLE_DEVICES\"] = \"3\""
   ]
  },
  {
   "cell_type": "code",
   "execution_count": 3,
   "metadata": {},
   "outputs": [
    {
     "name": "stderr",
     "output_type": "stream",
     "text": [
      "Using TensorFlow backend.\n"
     ]
    }
   ],
   "source": [
    "import tensorflow as tf\n",
    "import keras.backend.tensorflow_backend as KTF\n",
    " \n",
    "config = tf.ConfigProto()  \n",
    "config.gpu_options.allow_growth=True  \n",
    "session = tf.Session(config=config)\n",
    " \n",
    "KTF.set_session(session)"
   ]
  },
  {
   "cell_type": "code",
   "execution_count": 4,
   "metadata": {},
   "outputs": [],
   "source": [
    "import numpy as np\n",
    "import keras_bert"
   ]
  },
  {
   "cell_type": "code",
   "execution_count": 5,
   "metadata": {},
   "outputs": [],
   "source": [
    "from hypers import *\n",
    "from preprocess import *\n",
    "from Knowledge import *\n",
    "from Models import *"
   ]
  },
  {
   "cell_type": "code",
   "execution_count": 6,
   "metadata": {},
   "outputs": [],
   "source": [
    "bert_path='/data1/qitao/BERT/chinese_L-12_H-768_A-12/'\n",
    "emb_root_path = '/data/data/qit/cnchar.model'"
   ]
  },
  {
   "cell_type": "markdown",
   "metadata": {},
   "source": [
    "# Load BERT Model"
   ]
  },
  {
   "cell_type": "code",
   "execution_count": 7,
   "metadata": {},
   "outputs": [],
   "source": [
    "bert_word_index_path=bert_path+'vocab.txt'\n",
    "\n",
    "bert_config_path = os.path.join(bert_path,'bert_config.json')\n",
    "bert_checkpoint_path = os.path.join(bert_path,'bert_model.ckpt')\n",
    "bert_vocab_path = os.path.join(bert_path,'vocab.txt')\n",
    "\n",
    "bert_voca = read_bert_word_index(bert_word_index_path)\n",
    "\n",
    "bert = keras_bert.load_trained_model_from_checkpoint(bert_config_path,\n",
    "                                                        bert_checkpoint_path, \n",
    "                                                        training=False,\n",
    "                                                        trainable=True,\n",
    "                                                        seq_len=max_text_length,\n",
    "                                                        )"
   ]
  },
  {
   "cell_type": "markdown",
   "metadata": {},
   "source": [
    "# Load and Preprocess Data"
   ]
  },
  {
   "cell_type": "code",
   "execution_count": 8,
   "metadata": {},
   "outputs": [],
   "source": [
    "TrainData,TestData,Centorid = read_data()"
   ]
  },
  {
   "cell_type": "code",
   "execution_count": 9,
   "metadata": {},
   "outputs": [
    {
     "name": "stderr",
     "output_type": "stream",
     "text": [
      "/home/qit16/KeMRE-Release/Knowledge.py:91: RuntimeWarning: invalid value encountered in double_scalars\n",
      "  sim = sim/(np.sqrt(sim_length)*np.sqrt(len(cen_contexts)))\n"
     ]
    }
   ],
   "source": [
    "char_dict = {}\n",
    "tp_dict = {}\n",
    "    \n",
    "train_input, train_label, train_mask = parse_data(TrainData,Centorid,char_dict,tp_dict,bert_voca)\n",
    "test_input, test_label, test_mask = parse_data(TestData,Centorid,char_dict,tp_dict,bert_voca)\n",
    "train_mask = train_mask.reshape((train_mask.shape[0],max_entity_num*max_entity_num,))\n",
    "train_label = train_label.reshape((train_label.shape[0],max_entity_num*max_entity_num,1))"
   ]
  },
  {
   "cell_type": "code",
   "execution_count": 10,
   "metadata": {},
   "outputs": [],
   "source": [
    "emb_matrix=Init_char_embedding(emb_root_path,char_dict)"
   ]
  },
  {
   "cell_type": "markdown",
   "metadata": {},
   "source": [
    "# Model Training"
   ]
  },
  {
   "cell_type": "code",
   "execution_count": null,
   "metadata": {
    "scrolled": true
   },
   "outputs": [
    {
     "name": "stdout",
     "output_type": "stream",
     "text": [
      "Epoch 1/5\n",
      "242/242 [==============================] - 352s 1s/step - loss: 0.1258\n",
      "Epoch 2/5\n",
      "242/242 [==============================] - 324s 1s/step - loss: 0.0395\n",
      "Epoch 3/5\n",
      "242/242 [==============================] - 320s 1s/step - loss: 0.0124\n",
      "Epoch 4/5\n",
      "242/242 [==============================] - 314s 1s/step - loss: 0.0062\n",
      "Epoch 5/5\n",
      "242/242 [==============================] - 319s 1s/step - loss: 0.0052\n",
      "test (0.9979094917468203, 0.9294918997671675, 0.9969394806005588, 0.9620349639439781)\n",
      "Epoch 1/5\n",
      "242/242 [==============================] - 325s 1s/step - loss: 0.0045\n",
      "Epoch 2/5\n",
      "242/242 [==============================] - 324s 1s/step - loss: 0.0035\n",
      "Epoch 3/5\n",
      "242/242 [==============================] - 317s 1s/step - loss: 0.0035\n",
      "Epoch 4/5\n",
      "242/242 [==============================] - 318s 1s/step - loss: 0.0030\n",
      "Epoch 5/5\n",
      "242/242 [==============================] - 315s 1s/step - loss: 0.0030\n",
      "test (0.9994780286795699, 0.9846281295117242, 0.9970174293040341, 0.9907840502949304)\n",
      "Epoch 1/5\n",
      "242/242 [==============================] - 322s 1s/step - loss: 0.0036\n",
      "Epoch 2/5\n",
      "242/242 [==============================] - 319s 1s/step - loss: 0.0024\n",
      "Epoch 3/5\n",
      "242/242 [==============================] - 323s 1s/step - loss: 0.0022\n",
      "Epoch 4/5\n",
      "242/242 [==============================] - 325s 1s/step - loss: 0.0024\n",
      "Epoch 5/5\n",
      "242/242 [==============================] - 322s 1s/step - loss: 0.0019\n",
      "test (0.9995829475379479, 0.9883100146365694, 0.9970285076611544, 0.9926501177836963)\n",
      "Epoch 1/5\n",
      "242/242 [==============================] - 314s 1s/step - loss: 0.0015\n",
      "Epoch 2/5\n",
      "242/242 [==============================] - 320s 1s/step - loss: 0.0020\n",
      "Epoch 3/5\n",
      "242/242 [==============================] - 320s 1s/step - loss: 0.0013\n",
      "Epoch 4/5\n",
      "242/242 [==============================] - 314s 1s/step - loss: 0.0015\n",
      "Epoch 5/5\n",
      "242/242 [==============================] - 313s 1s/step - loss: 0.0016\n",
      "test (0.9996144231954612, 0.9892304859177806, 0.997216293866826, 0.9932073378315969)\n",
      "Epoch 1/5\n",
      "242/242 [==============================] - 312s 1s/step - loss: 0.0016\n",
      "Epoch 2/5\n",
      "242/242 [==============================] - 314s 1s/step - loss: 0.0010\n",
      "Epoch 3/5\n",
      "242/242 [==============================] - 306s 1s/step - loss: 0.0013\n",
      "Epoch 4/5\n",
      "242/242 [==============================] - 306s 1s/step - loss: 8.0258e-04\n",
      "Epoch 5/5\n",
      "242/242 [==============================] - 303s 1s/step - loss: 7.3366e-04\n",
      "test (0.9996432758815151, 0.989506627302144, 0.9979576679355776, 0.9937141799783958)\n",
      "Epoch 1/5\n",
      "  6/242 [..............................] - ETA: 4:52 - loss: 5.4910e-05"
     ]
    }
   ],
   "source": [
    "use_knowledge=True\n",
    "use_bert = True\n",
    "char_cnn = True\n",
    "char_lstm = True\n",
    "entity_type = True\n",
    "entity_cnn = True\n",
    "entity_lstm = True\n",
    "dim_knowledge = 150\n",
    "\n",
    "model = get_model(emb_matrix,bert,tp_dict,use_knowledge,use_bert,char_cnn,char_lstm,entity_type,entity_cnn,entity_lstm,dim_knowledge)\n",
    "model.compile(Adam(0.0001),loss='binary_crossentropy',sample_weight_mode=\"temporal\")\n",
    "\n",
    "for i in range(25):\n",
    "    model.fit(train_input,train_label,epochs = 5,batch_size=2,sample_weight=train_mask)\n",
    "    pred = infer(model,test_input,test_mask)\n",
    "    g = evaluation(pred,test_label,test_mask)\n",
    "    print('test',g)"
   ]
  },
  {
   "cell_type": "code",
   "execution_count": null,
   "metadata": {},
   "outputs": [],
   "source": []
  },
  {
   "cell_type": "code",
   "execution_count": null,
   "metadata": {},
   "outputs": [],
   "source": []
  },
  {
   "cell_type": "code",
   "execution_count": null,
   "metadata": {},
   "outputs": [],
   "source": []
  }
 ],
 "metadata": {
  "kernelspec": {
   "display_name": "Python(ds)",
   "language": "python",
   "name": "ds"
  },
  "language_info": {
   "codemirror_mode": {
    "name": "ipython",
    "version": 3
   },
   "file_extension": ".py",
   "mimetype": "text/x-python",
   "name": "python",
   "nbconvert_exporter": "python",
   "pygments_lexer": "ipython3",
   "version": "3.6.8"
  }
 },
 "nbformat": 4,
 "nbformat_minor": 2
}
